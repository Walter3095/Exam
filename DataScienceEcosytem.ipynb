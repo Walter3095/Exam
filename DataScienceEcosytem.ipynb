{
 "cells": [
  {
   "cell_type": "markdown",
   "id": "e1794807-5fc9-4c8a-969b-304d48674f76",
   "metadata": {},
   "source": [
    "# Data Science Tools and Ecosystem"
   ]
  },
  {
   "cell_type": "markdown",
   "id": "4d1e4bee-999e-4bf6-b95f-e52592d0b1b3",
   "metadata": {},
   "source": [
    "In this notebook, Data Science Tools and Ecosystem are summarized."
   ]
  },
  {
   "cell_type": "markdown",
   "id": "b5f257d2-a8c3-41a0-a5f7-a6ee95fd86c3",
   "metadata": {},
   "source": [
    "Some of the popular languages that Data Scientists use are:\n",
    "* R Studio\n",
    "* Phyton\n",
    "* SQL"
   ]
  },
  {
   "cell_type": "markdown",
   "id": "347fe9bf-f8bc-4fc6-a87f-38846185ef22",
   "metadata": {},
   "source": [
    "Some of the commonly used libraries used by Data Scientists include:\n",
    "\n",
    "* Pandas\n",
    "* TensorFlow\n",
    "* Matplotlib"
   ]
  },
  {
   "cell_type": "markdown",
   "id": "1df1fd77-10d7-4986-a2de-614b7b1c951c",
   "metadata": {},
   "source": [
    "|Data Science Tools |\n",
    "| ------ |\n",
    "| Jupyter |\n",
    "|Phyton |\n",
    "| R |"
   ]
  },
  {
   "cell_type": "markdown",
   "id": "b878212d-857d-4f31-82b9-c87732537ecc",
   "metadata": {},
   "source": [
    "### Below are a few examples of evaluating arithmetic expressions in Python"
   ]
  },
  {
   "cell_type": "code",
   "execution_count": 1,
   "id": "a89b63b7-ff0a-4879-8f95-657fe867c02a",
   "metadata": {
    "tags": []
   },
   "outputs": [
    {
     "data": {
      "text/plain": [
       "17"
      ]
     },
     "execution_count": 1,
     "metadata": {},
     "output_type": "execute_result"
    }
   ],
   "source": [
    "(3*4)+5\n",
    "# This a simple arithmetic expression to mutiply then add integers"
   ]
  },
  {
   "cell_type": "code",
   "execution_count": 2,
   "id": "9f1bfdce-234e-4131-ac43-0118d9bf786f",
   "metadata": {
    "tags": []
   },
   "outputs": [
    {
     "data": {
      "text/plain": [
       "3.3333333333333335"
      ]
     },
     "execution_count": 2,
     "metadata": {},
     "output_type": "execute_result"
    }
   ],
   "source": [
    "200/60\n",
    "# This will convert 200 minutes to hours by diving by 60"
   ]
  },
  {
   "cell_type": "markdown",
   "id": "15c0a704-b6f6-4719-a260-5f3807484836",
   "metadata": {},
   "source": [
    "#### **Objectives**"
   ]
  },
  {
   "cell_type": "code",
   "execution_count": null,
   "id": "d6764859-b603-4921-9bf4-50f5af1a00af",
   "metadata": {},
   "outputs": [],
   "source": [
    "# List popular languages for Data Science\n",
    "\n",
    "1. SQL\n",
    "2. Phyton\n",
    "3. Julia\n",
    "4. JavaScript"
   ]
  },
  {
   "cell_type": "markdown",
   "id": "096a2fe5-bd97-49e1-858f-8e1c54e88d49",
   "metadata": {},
   "source": [
    "## AUTOR\n",
    "Walter García Sandoval"
   ]
  },
  {
   "cell_type": "code",
   "execution_count": null,
   "id": "f66730db-eb5a-4d2f-947e-af4306270a47",
   "metadata": {},
   "outputs": [],
   "source": []
  }
 ],
 "metadata": {
  "kernelspec": {
   "display_name": "Python",
   "language": "python",
   "name": "conda-env-python-py"
  },
  "language_info": {
   "codemirror_mode": {
    "name": "ipython",
    "version": 3
   },
   "file_extension": ".py",
   "mimetype": "text/x-python",
   "name": "python",
   "nbconvert_exporter": "python",
   "pygments_lexer": "ipython3",
   "version": "3.7.12"
  }
 },
 "nbformat": 4,
 "nbformat_minor": 5
}
